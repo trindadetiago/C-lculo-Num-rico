{
  "nbformat": 4,
  "nbformat_minor": 0,
  "metadata": {
    "colab": {
      "provenance": []
    },
    "kernelspec": {
      "name": "python3",
      "display_name": "Python 3"
    },
    "language_info": {
      "name": "python"
    }
  },
  "cells": [
    {
      "cell_type": "markdown",
      "source": [
        "#TRABALHO"
      ],
      "metadata": {
        "id": "d0pdEsXrYhLQ"
      }
    },
    {
      "cell_type": "markdown",
      "source": [
        "$$\\\n",
        "\\begin{align*}\n",
        "\\text{Segunda:} \\quad 0.2\\text{fr} &+ 0.3\\text{fj} + 0.35\\text{ar} + 0.15\\text{ov} + 0.0\\text{sa} = 400 \\\\\n",
        "\\text{Terça:} \\quad 0.3\\text{fr} &+ 0.2\\text{fj} + 0.15\\text{ar} + 0.2\\text{ov} + 0.15\\text{sa} = 500 \\\\\n",
        "\\text{Quarta:} \\quad 0.25\\text{fr} &+ 0.35\\text{fj} + 0.2\\text{ar} + 0.1\\text{ov} + 0.1\\text{sa} = 500 \\\\\n",
        "\\text{Quinta:} \\quad 0.4\\text{fr} &+ 0.15\\text{fj} + 0.3\\text{ar} + 0.1\\text{ov} + 0.05\\text{sa} = 400 \\\\\n",
        "\\text{Sexta:} \\quad 0.2\\text{fr} &+ 0.3\\text{fj} + 0.15\\text{ar} + 0.15\\text{ov} + 0.2\\text{sa} = 550 \\\\\n",
        "\\end{align*}\n",
        "$$\n"
      ],
      "metadata": {
        "id": "FJvsTfWryiXe"
      }
    },
    {
      "cell_type": "markdown",
      "source": [
        "a\n",
        "\n",
        "\n",
        "A =\n",
        "\\begin{bmatrix}\n",
        "0.2 & 0.3 & 0.35 & 0.15 & 0.0 \\\\\n",
        "0.3 & 0.2 & 0.15 & 0.2 & 0.15 \\\\\n",
        "0.25 & 0.35 & 0.2 & 0.1 & 0.1 \\\\\n",
        "0.4 & 0.15 & 0.3 & 0.1 & 0.05 \\\\\n",
        "0.2 & 0.3 & 0.15 & 0.15 & 0.2 \\\\\n",
        "\\end{bmatrix}\n",
        "\n",
        "b =\n",
        "\\begin{bmatrix}\n",
        "400 & 500 & 500 & 400 & 550 \\\\\n",
        "\\end{bmatrix}\n"
      ],
      "metadata": {
        "id": "UpUWazFYgY09"
      }
    },
    {
      "cell_type": "markdown",
      "source": [
        "b =\n",
        "\\begin{bmatrix}\n",
        "400 \\\\\n",
        "500 \\\\\n",
        "500 \\\\\n",
        "400 \\\\\n",
        "550 \\\\\n",
        "\\end{bmatrix}\n"
      ],
      "metadata": {
        "id": "PG9ZpPAbgZpc"
      }
    },
    {
      "cell_type": "markdown",
      "source": [
        "LU"
      ],
      "metadata": {
        "id": "s8mIRo4WYYw3"
      }
    },
    {
      "cell_type": "code",
      "source": [
        "import numpy as np\n",
        "\n",
        "# Defina o sistema de equações como uma matriz aumentada [A | b]\n",
        "A = np.array([[0.2, 0.3, 0.35, 0.15, 0.0],\n",
        "              [0.3, 0.2, 0.15, 0.2, 0.15],\n",
        "              [0.25, 0.35, 0.2, 0.1, 0.1],\n",
        "              [0.4, 0.15, 0.3, 0.1, 0.05],\n",
        "              [0.2, 0.3, 0.15, 0.15, 0.2]], dtype=float)\n",
        "\n",
        "b = np.array([400, 500, 500, 400, 550], dtype=float)\n",
        "\n",
        "# Fatoração LU\n",
        "def lu_decomposition(A):\n",
        "    n = len(A)\n",
        "    L = np.eye(n)\n",
        "    U = A.copy()\n",
        "\n",
        "    for pivot_row in range(n):\n",
        "        for row in range(pivot_row + 1, n):\n",
        "            factor = U[row, pivot_row] / U[pivot_row, pivot_row]\n",
        "            L[row, pivot_row] = factor\n",
        "            U[row, pivot_row:] -= factor * U[pivot_row, pivot_row:]\n",
        "\n",
        "    return L, U\n",
        "\n",
        "L, U = lu_decomposition(A)\n",
        "\n",
        "# Resolva Ly = b usando substituição direta (forward substitution)\n",
        "def forward_substitution(L, b):\n",
        "    n = len(L)\n",
        "    y = np.zeros(n)\n",
        "\n",
        "    for i in range(n):\n",
        "        y[i] = b[i] - np.sum(L[i, :i] * y[:i])\n",
        "\n",
        "    return y\n",
        "\n",
        "# Resolva Ux = y usando substituição reversa (back substitution)\n",
        "def back_substitution(U, y):\n",
        "    n = len(U)\n",
        "    x = np.zeros(n)\n",
        "\n",
        "    for i in range(n - 1, -1, -1):\n",
        "        x[i] = (y[i] - np.sum(U[i, i+1:] * x[i+1:])) / U[i, i]\n",
        "\n",
        "    return x\n",
        "\n",
        "# Resolva o sistema\n",
        "y = forward_substitution(L, b)\n",
        "x = back_substitution(U, y)\n",
        "\n",
        "print(\"Solução x por Fatoração LU:\")\n",
        "print(x)"
      ],
      "metadata": {
        "colab": {
          "base_uri": "https://localhost:8080/"
        },
        "id": "WKDZXxVnIIGN",
        "outputId": "9049da07-7039-4275-ecaa-8014c28ff616"
      },
      "execution_count": null,
      "outputs": [
        {
          "output_type": "stream",
          "name": "stdout",
          "text": [
            "Solução x por Fatoração LU:\n",
            "[412.5 662.5 162.5 412.5 912.5]\n"
          ]
        }
      ]
    },
    {
      "cell_type": "markdown",
      "source": [
        "Gaussian"
      ],
      "metadata": {
        "id": "2qaLnEFhYXGI"
      }
    },
    {
      "cell_type": "code",
      "source": [
        "import numpy as np\n",
        "\n",
        "# Defina o sistema de equações como uma matriz aumentada [A | b]\n",
        "A = np.array([[0.2, 0.3, 0.35, 0.15, 0.0],\n",
        "              [0.3, 0.2, 0.15, 0.2, 0.15],\n",
        "              [0.25, 0.35, 0.2, 0.1, 0.1],\n",
        "              [0.4, 0.15, 0.3, 0.1, 0.05],\n",
        "              [0.2, 0.3, 0.15, 0.15, 0.2]], dtype=float)\n",
        "\n",
        "b = np.array([400, 500, 500, 400, 550], dtype=float)\n",
        "\n",
        "# Aplicar eliminação de Gauss para obter uma matriz triangular superior\n",
        "def gaussian_elimination(A, b):\n",
        "    n = len(b)\n",
        "\n",
        "    # Combinação das colunas de A e b em uma matriz aumentada\n",
        "    Ab = np.column_stack((A, b))\n",
        "\n",
        "    # Eliminação\n",
        "    for i in range(n):\n",
        "        # Encontre o pivô máximo na coluna atual\n",
        "        pivot_row = np.argmax(np.abs(Ab[i:, i])) + i\n",
        "\n",
        "        # Troque as linhas se necessário\n",
        "        Ab[[i, pivot_row]] = Ab[[pivot_row, i]]\n",
        "\n",
        "        # Faça o pivô igual a 1\n",
        "        Ab[i] = Ab[i] / Ab[i, i]\n",
        "\n",
        "        # Elimine as entradas abaixo do pivô\n",
        "        for j in range(i + 1, n):\n",
        "            Ab[j] = Ab[j] - Ab[j, i] * Ab[i]\n",
        "\n",
        "    # Resolva o sistema triangular superior\n",
        "    x = np.zeros(n)\n",
        "    for i in range(n - 1, -1, -1):\n",
        "        x[i] = Ab[i, -1] - np.sum(Ab[i, i+1:n] * x[i+1:n])\n",
        "\n",
        "    return x\n",
        "\n",
        "# Resolver o sistema\n",
        "x = gaussian_elimination(A, b)\n",
        "\n",
        "print(\"Solução x por Eliminação Gaussiana:\")\n",
        "print(x)"
      ],
      "metadata": {
        "id": "K5iG4UpdI_VG",
        "outputId": "ea9ddde3-d9f2-4711-c605-c0d56f8c4ab6",
        "colab": {
          "base_uri": "https://localhost:8080/"
        }
      },
      "execution_count": null,
      "outputs": [
        {
          "output_type": "stream",
          "name": "stdout",
          "text": [
            "Solução x por Eliminação Gaussiana:\n",
            "[412.5 662.5 162.5 412.5 912.5]\n"
          ]
        }
      ]
    },
    {
      "cell_type": "markdown",
      "source": [
        "$$\n",
        "\\begin{align*}\n",
        "\\text{Segunda:} \\quad 0.2(412.5) &+ 0.3(662.5) + 0.35(162.5) + 0.15(412.5) + 0.0(912.5) = 400 \\\\\n",
        "\\text{Terça:} \\quad 0.3(412.5) &+ 0.2(662.5) + 0.15(162.5) + 0.2(412.5) + 0.15(912.5) = 500 \\\\\n",
        "\\text{Quarta:} \\quad 0.25(412.5) &+ 0.35(662.5) + 0.2(162.5) + 0.1(412.5) + 0.1(912.5) = 500 \\\\\n",
        "\\text{Quinta:} \\quad 0.4(412.5) &+ 0.15(662.5) + 0.3(162.5) + 0.1(412.5) + 0.05(912.5) = 400 \\\\\n",
        "\\text{Sexta:} \\quad 0.2(412.5) &+ 0.3(662.5) + 0.15(162.5) + 0.15(412.5) + 0.2(912.5) = 550 \\\\\n",
        "\\end{align*}\n",
        "$$\n"
      ],
      "metadata": {
        "id": "i_yX4fhy2gZm"
      }
    },
    {
      "cell_type": "markdown",
      "source": [
        "$$\n",
        "\\begin{align*}\n",
        "\\text{Segunda:} \\quad &+ 82.5 &+ & 198.75 & + & 56.875 & + & 61.875 & + & 0 &= 400\\\\\n",
        "\\text{Terça:} \\quad &+ 123.75 &+ & 132.5 & + & 24.375 & + & 82.5 & + & 136.875 &= 500\\\\\n",
        "\\text{Quarta:} \\quad &+ 103.125 & + & 231.875 & + & 32.5 & + & 41.25 & + & 91.25 &= 500\\\\\n",
        "\\text{Quinta:} \\quad &+ 165 & + & 99.375 & + & 48.75 & + & 41.25 & + & 45.625 &= 400\\\\\n",
        "\\text{Sexta:} \\quad &+ 82.5 & + & 198.75 & + & 24.375 & + & 61.875 & + & 182.5 &= 550\\\\\n",
        "\\end{align*}\n",
        "$$\n"
      ],
      "metadata": {
        "id": "O_Q0UcTi268W"
      }
    },
    {
      "cell_type": "markdown",
      "source": [
        "Checando"
      ],
      "metadata": {
        "id": "av2YsE-KYVMg"
      }
    },
    {
      "cell_type": "code",
      "source": [
        "import numpy as np\n",
        "\n",
        "# Define matrix A and vector b (as defined previously)\n",
        "A = np.array([[0.2, 0.3, 0.35, 0.15, 0.0],\n",
        "              [0.3, 0.2, 0.15, 0.2, 0.15],\n",
        "              [0.25, 0.35, 0.2, 0.1, 0.1],\n",
        "              [0.4, 0.15, 0.3, 0.1, 0.05],\n",
        "              [0.2, 0.3, 0.15, 0.15, 0.2]], dtype=float)\n",
        "\n",
        "b = np.array([400, 500, 500, 400, 550], dtype=float)\n",
        "\n",
        "# Your obtained values from Jacobi (or other methods)\n",
        "x = np.array([412.5, 662.5, 162.5, 412.5, 912.5])\n",
        "\n",
        "# Back-substitution\n",
        "lhs = np.dot(A, x)\n",
        "print(\"Computed LHS:\", lhs)\n",
        "print(\"Difference from RHS:\", lhs - b)\n",
        "\n",
        "# Residual calculation\n",
        "residual = np.dot(A, x) - b\n",
        "print(\"Residual:\", residual)\n",
        "print(\"Norm of Residual:\", np.linalg.norm(residual))"
      ],
      "metadata": {
        "colab": {
          "base_uri": "https://localhost:8080/"
        },
        "id": "gcaTkx9lXc0i",
        "outputId": "f4f17986-6b9a-4ec1-d746-d3064c5d52da"
      },
      "execution_count": null,
      "outputs": [
        {
          "output_type": "stream",
          "name": "stdout",
          "text": [
            "Computed LHS: [400. 500. 500. 400. 550.]\n",
            "Difference from RHS: [0. 0. 0. 0. 0.]\n",
            "Residual: [0. 0. 0. 0. 0.]\n",
            "Norm of Residual: 0.0\n"
          ]
        }
      ]
    },
    {
      "cell_type": "markdown",
      "source": [
        "# Teste ignorar"
      ],
      "metadata": {
        "id": "Mt4YTOwvW7e4"
      }
    },
    {
      "cell_type": "code",
      "source": [
        "##TESTE\n",
        "\n",
        "import numpy as np\n",
        "\n",
        "# Defina o sistema de equações como uma matriz aumentada [A | b]\n",
        "A = np.array([[0.2, 0.3, 0.35, 0.15, 0.0],\n",
        "              [0.3, 0.2, 0.15, 0.2, 0.15],\n",
        "              [0.25, 0.35, 0.2, 0.1, 0.1],\n",
        "              [0.4, 0.15, 0.3, 0.1, 0.05],\n",
        "              [0.2, 0.3, 0.15, 0.15, 0.2]], dtype=float)\n",
        "\n",
        "b = np.array([300, 200, 200, 300, 200], dtype=float)\n",
        "\n",
        "# Aplicar eliminação de Gauss para obter uma matriz triangular superior\n",
        "def gaussian_elimination(A, b):\n",
        "    n = len(b)\n",
        "\n",
        "    # Combinação das colunas de A e b em uma matriz aumentada\n",
        "    Ab = np.column_stack((A, b))\n",
        "\n",
        "    # Eliminação\n",
        "    for i in range(n):\n",
        "        # Encontre o pivô máximo na coluna atual\n",
        "        pivot_row = np.argmax(np.abs(Ab[i:, i])) + i\n",
        "\n",
        "        # Troque as linhas se necessário\n",
        "        Ab[[i, pivot_row]] = Ab[[pivot_row, i]]\n",
        "\n",
        "        # Faça o pivô igual a 1\n",
        "        Ab[i] = Ab[i] / Ab[i, i]\n",
        "\n",
        "        # Elimine as entradas abaixo do pivô\n",
        "        for j in range(i + 1, n):\n",
        "            Ab[j] = Ab[j] - Ab[j, i] * Ab[i]\n",
        "\n",
        "    # Resolva o sistema triangular superior\n",
        "    x = np.zeros(n)\n",
        "    for i in range(n - 1, -1, -1):\n",
        "        x[i] = Ab[i, -1] - np.sum(Ab[i, i+1:n] * x[i+1:n])\n",
        "\n",
        "    return x\n",
        "\n",
        "# Resolver o sistema\n",
        "x = gaussian_elimination(A, b)\n",
        "\n",
        "def aa():\n",
        "  for a in range(450, 1500, 50):\n",
        "    for b in range(500, 1500, 50):\n",
        "      for c in range(500, 1500, 50):\n",
        "        for d in range(400, 1500, 50):\n",
        "          for e in range(500, 1500, 50):\n",
        "            o = 0\n",
        "            for i in gaussian_elimination(A, np.array([a,b,c,d,e], dtype=float)):\n",
        "              if i <=0: o=1\n",
        "            if o == 0:\n",
        "              return [a,b,c,d,e], gaussian_elimination(A, np.array([a,b,c,d,e], dtype=float))\n",
        "\n",
        "print(\"Solução x:\")\n",
        "#print(x)\n",
        "aa()"
      ],
      "metadata": {
        "colab": {
          "base_uri": "https://localhost:8080/"
        },
        "id": "b_lM7R1pV3t4",
        "outputId": "5f27f6cc-d75e-428d-b050-aac7b1e22bed"
      },
      "execution_count": null,
      "outputs": [
        {
          "output_type": "stream",
          "name": "stdout",
          "text": [
            "Solução x:\n"
          ]
        },
        {
          "output_type": "execute_result",
          "data": {
            "text/plain": [
              "([450, 500, 500, 400, 550],\n",
              " array([263.88888889, 652.77777778, 319.44444444, 597.22222222,\n",
              "        819.44444444]))"
            ]
          },
          "metadata": {},
          "execution_count": 4
        }
      ]
    },
    {
      "cell_type": "code",
      "source": [
        "import numpy as np\n",
        "import scipy\n",
        "\n",
        "# Definição da matriz aumentada [A | b]\n",
        "A = np.array([[0.2, 0.3, 0.35, 0.15, 0.0],\n",
        "              [0.3, 0.2, 0.15, 0.2, 0.15],\n",
        "              [0.25, 0.35, 0.2, 0.1, 0.1],\n",
        "              [0.4, 0.15, 0.3, 0.1, 0.05],\n",
        "              [0.2, 0.3, 0.15, 0.15, 0.2]], dtype=float)\n",
        "\n",
        "b = np.array([400, 500, 500, 400, 550], dtype=float)\n",
        "\n",
        "# Aplicar eliminação de Gauss usando as funções do NumPy\n",
        "def gaussian_elimination(A, b):\n",
        "    Ab = np.column_stack((A, b))\n",
        "    n = len(b)\n",
        "\n",
        "    for i in range(n):\n",
        "        pivot_row = np.argmax(np.abs(Ab[i:, i])) + i\n",
        "        Ab[[i, pivot_row]] = Ab[[pivot_row, i]]\n",
        "        Ab[i] = Ab[i] / Ab[i, i]\n",
        "        for j in range(i + 1, n):\n",
        "            Ab[j] = Ab[j] - Ab[j, i] * Ab[i]\n",
        "\n",
        "    x = np.zeros(n)\n",
        "    for i in range(n - 1, -1, -1):\n",
        "        x[i] = Ab[i, -1] - np.sum(Ab[i, i+1:n] * x[i+1:n])\n",
        "\n",
        "    return x\n",
        "\n",
        "# Resolver o sistema usando a Eliminação Gaussiana com as funções do NumPy\n",
        "x_gauss = gaussian_elimination(A, b)\n",
        "\n",
        "print(\"Solução x por Eliminação Gaussiana (com NumPy):\")\n",
        "print(x_gauss)\n",
        "\n",
        "# Fatorização LU usando as funções do NumPy\n",
        "P, L, U = scipy.linalg.lu(A)\n",
        "y = scipy.linalg.solve_triangular(L, P @ b, lower=True)\n",
        "x_lu = scipy.linalg.solve_triangular(U, y)\n",
        "\n",
        "print(\"\\nSolução x por Fatorização LU (com NumPy):\")\n",
        "print(x_lu)\n"
      ],
      "metadata": {
        "colab": {
          "base_uri": "https://localhost:8080/"
        },
        "id": "P3ZdMKZ6u3fu",
        "outputId": "3b637042-bd69-403c-834c-10048f42811d"
      },
      "execution_count": null,
      "outputs": [
        {
          "output_type": "stream",
          "name": "stdout",
          "text": [
            "Solução x por Eliminação Gaussiana (com NumPy):\n",
            "[412.5 662.5 162.5 412.5 912.5]\n",
            "\n",
            "Solução x por Fatorização LU (com NumPy):\n",
            "[-429.16666667 -345.83333333 2154.16666667 -429.16666667 2404.16666667]\n"
          ]
        }
      ]
    }
  ]
}